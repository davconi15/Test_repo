{
 "cells": [
  {
   "cell_type": "code",
   "execution_count": 1,
   "id": "2079a451-60a4-4aba-93ed-5aac9dc097a8",
   "metadata": {},
   "outputs": [
    {
     "data": {
      "text/html": [
       "'Dave'"
      ],
      "text/latex": [
       "'Dave'"
      ],
      "text/markdown": [
       "'Dave'"
      ],
      "text/plain": [
       "[1] \"Dave\""
      ]
     },
     "metadata": {},
     "output_type": "display_data"
    }
   ],
   "source": [
    "name <- \"Dave\"\n",
    "name"
   ]
  },
  {
   "cell_type": "code",
   "execution_count": null,
   "id": "5f1db5f9-5102-4c6d-8475-ff0ea9d550c7",
   "metadata": {},
   "outputs": [],
   "source": []
  }
 ],
 "metadata": {
  "kernelspec": {
   "display_name": "R",
   "language": "R",
   "name": "conda-env-r-r"
  },
  "language_info": {
   "codemirror_mode": "r",
   "file_extension": ".r",
   "mimetype": "text/x-r-source",
   "name": "R",
   "pygments_lexer": "r",
   "version": "3.5.1"
  }
 },
 "nbformat": 4,
 "nbformat_minor": 5
}
